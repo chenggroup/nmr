{
 "cells": [
  {
   "cell_type": "markdown",
   "id": "d782634b",
   "metadata": {
    "tags": []
   },
   "source": [
    "# Tutorial for training and testing NN-NMR model\n",
    "\n",
    "Using P2-type Na<sub>2/3</sub>(Mg<sub>1/3</sub>Mn<sub>2/3</sub>)O<sub>2</sub> as an example, 1000 configurations extracted from two 200ns DPMD trajectories of *P*6<sub>3</sub>/*mcm* and *P*6<sub>3</sub>22 supercell models, 16000 <sup>23</sup>Na shifts.\n"
   ]
  },
  {
   "cell_type": "markdown",
   "id": "2c861d85-f75c-4a61-b7d7-aa1c2b2931dd",
   "metadata": {},
   "source": [
    "## Pre-requirement\n",
    "\n",
    "PyTorch environment setup on Bohrium image."
   ]
  },
  {
   "cell_type": "markdown",
   "id": "d794caed",
   "metadata": {},
   "source": [
    "## Install\n",
    "\n",
    "The version of Tensorflow is depended by CUDA"
   ]
  },
  {
   "cell_type": "code",
   "execution_count": 1,
   "id": "7fabc628-6f96-4802-ad70-42b0453f601a",
   "metadata": {
    "tags": []
   },
   "outputs": [
    {
     "name": "stdout",
     "output_type": "stream",
     "text": [
      "\u001b[33mWARNING: Ignoring invalid distribution -orch (/opt/conda/lib/python3.8/site-packages)\u001b[0m\n",
      "\u001b[33mWARNING: Ignoring invalid distribution -orch (/opt/conda/lib/python3.8/site-packages)\u001b[0m\n",
      "Looking in indexes: https://pypi.tuna.tsinghua.edu.cn/simple, https://pypi.ngc.nvidia.com\n",
      "Collecting numpy~=1.18.5\n",
      "  Downloading https://pypi.tuna.tsinghua.edu.cn/packages/01/c6/87592f924246da1e58673cf708a2748754517c5cf050726238d6cfbd8df4/numpy-1.18.5-cp38-cp38-manylinux1_x86_64.whl (20.6 MB)\n",
      "\u001b[K     |████████████████████████████████| 20.6 MB 10.3 MB/s eta 0:00:01\n",
      "\u001b[?25hCollecting pandas~=1.1.5\n",
      "  Downloading https://pypi.tuna.tsinghua.edu.cn/packages/f9/f4/ede7c643939c132b0692a737800747ce5ba0e8068af27730dfda936c9bf1/pandas-1.1.5-cp38-cp38-manylinux1_x86_64.whl (9.3 MB)\n",
      "\u001b[K     |████████████████████████████████| 9.3 MB 4.5 MB/s eta 0:00:011\n",
      "\u001b[?25hCollecting matplotlib~=3.5.1\n",
      "  Downloading https://pypi.tuna.tsinghua.edu.cn/packages/a7/57/c9b314e3c1fe451017e62b9d485c107db1f7b4fed70dc2e13c7acdc57137/matplotlib-3.5.3-cp38-cp38-manylinux_2_5_x86_64.manylinux1_x86_64.whl (11.3 MB)\n",
      "\u001b[K     |████████████████████████████████| 11.3 MB 6.0 MB/s eta 0:00:01     |█████████████████████████████▌  | 10.4 MB 6.0 MB/s eta 0:00:01\n",
      "\u001b[?25hCollecting scikit-learn~=1.0.2\n",
      "  Downloading https://pypi.tuna.tsinghua.edu.cn/packages/40/d3/206905d836cd496c1f78a15ef92a0f0477d74113b4f349342bf31dfd62ca/scikit_learn-1.0.2-cp38-cp38-manylinux_2_17_x86_64.manylinux2014_x86_64.whl (26.7 MB)\n",
      "\u001b[K     |████████████████████████████████| 26.7 MB 3.5 MB/s eta 0:00:011\n",
      "\u001b[?25h\u001b[33mWARNING: Retrying (Retry(total=4, connect=None, read=None, redirect=None, status=None)) after connection broken by 'ReadTimeoutError(\"HTTPSConnectionPool(host='developer.download.nvidia.com', port=443): Read timed out. (read timeout=15)\")': /compute/redist/tqdm/\u001b[0m\n",
      "^C\n",
      "\u001b[31mERROR: Operation cancelled by user\u001b[0m\n",
      "\u001b[33mWARNING: Ignoring invalid distribution -orch (/opt/conda/lib/python3.8/site-packages)\u001b[0m\n",
      "\u001b[33mWARNING: Ignoring invalid distribution -orch (/opt/conda/lib/python3.8/site-packages)\u001b[0m\n"
     ]
    }
   ],
   "source": [
    "import sys\n",
    "!{sys.executable} -m pip install -r requirements.txt -i https://pypi.tuna.tsinghua.edu.cn/simple"
   ]
  },
  {
   "cell_type": "markdown",
   "id": "8d280c82",
   "metadata": {},
   "source": [
    "## Library and Environment"
   ]
  },
  {
   "cell_type": "code",
   "execution_count": 1,
   "id": "b4051754",
   "metadata": {
    "tags": []
   },
   "outputs": [],
   "source": [
    "# Importing libraries\n",
    "import os\n",
    "import pandas as pd\n",
    "import numpy as np\n",
    "import matplotlib.pyplot as plt\n",
    "from sklearn.metrics import r2_score\n",
    "from ase.io import read\n",
    "from nn_nmr import get_df_from_outcars"
   ]
  },
  {
   "cell_type": "markdown",
   "id": "1b93ff70",
   "metadata": {
    "tags": []
   },
   "source": [
    "## From OUTCAR to SOAP descriptors and chemical shifts\n",
    "\n",
    "- input: \n",
    "    - OUTCAR\n",
    "    - expression\n",
    "    - elements\n",
    "\n",
    "\n",
    "- output: \n",
    "    - DataFrame(X: soaps, y: FCShifts)"
   ]
  },
  {
   "cell_type": "code",
   "execution_count": 2,
   "id": "c4cdceac",
   "metadata": {
    "tags": []
   },
   "outputs": [
    {
     "data": {
      "text/html": [
       "<div>\n",
       "<style scoped>\n",
       "    .dataframe tbody tr th:only-of-type {\n",
       "        vertical-align: middle;\n",
       "    }\n",
       "\n",
       "    .dataframe tbody tr th {\n",
       "        vertical-align: top;\n",
       "    }\n",
       "\n",
       "    .dataframe thead th {\n",
       "        text-align: right;\n",
       "    }\n",
       "</style>\n",
       "<table border=\"1\" class=\"dataframe\">\n",
       "  <thead>\n",
       "    <tr style=\"text-align: right;\">\n",
       "      <th></th>\n",
       "      <th>X</th>\n",
       "      <th>y</th>\n",
       "    </tr>\n",
       "  </thead>\n",
       "  <tbody>\n",
       "    <tr>\n",
       "      <th>0</th>\n",
       "      <td>[0.06860095117868371, 1.4376865277355852e-08, ...</td>\n",
       "      <td>707.345735</td>\n",
       "    </tr>\n",
       "    <tr>\n",
       "      <th>1</th>\n",
       "      <td>[0.06039654417031627, 1.213281348026635e-08, 1...</td>\n",
       "      <td>2132.439348</td>\n",
       "    </tr>\n",
       "    <tr>\n",
       "      <th>2</th>\n",
       "      <td>[0.06803802894283517, 3.425563452549015e-08, 2...</td>\n",
       "      <td>1019.410030</td>\n",
       "    </tr>\n",
       "    <tr>\n",
       "      <th>3</th>\n",
       "      <td>[0.0601215233161849, 3.0016900889318795e-08, 5...</td>\n",
       "      <td>2206.854680</td>\n",
       "    </tr>\n",
       "    <tr>\n",
       "      <th>4</th>\n",
       "      <td>[0.0698653952573221, 6.271954105804142e-09, 2....</td>\n",
       "      <td>488.900729</td>\n",
       "    </tr>\n",
       "    <tr>\n",
       "      <th>...</th>\n",
       "      <td>...</td>\n",
       "      <td>...</td>\n",
       "    </tr>\n",
       "    <tr>\n",
       "      <th>7995</th>\n",
       "      <td>[0.06059652226968545, 1.107213164013808e-08, 1...</td>\n",
       "      <td>2754.167443</td>\n",
       "    </tr>\n",
       "    <tr>\n",
       "      <th>7996</th>\n",
       "      <td>[0.06273516264810623, 7.466261630613156e-08, 3...</td>\n",
       "      <td>2146.042151</td>\n",
       "    </tr>\n",
       "    <tr>\n",
       "      <th>7997</th>\n",
       "      <td>[0.0598401274934071, 3.556574835201933e-08, 3....</td>\n",
       "      <td>2384.491279</td>\n",
       "    </tr>\n",
       "    <tr>\n",
       "      <th>7998</th>\n",
       "      <td>[0.060939281084748026, 5.2898791951485635e-08,...</td>\n",
       "      <td>1899.591374</td>\n",
       "    </tr>\n",
       "    <tr>\n",
       "      <th>7999</th>\n",
       "      <td>[0.05989522573373, 1.0121274757183975e-08, 1.0...</td>\n",
       "      <td>1810.773075</td>\n",
       "    </tr>\n",
       "  </tbody>\n",
       "</table>\n",
       "<p>16000 rows × 2 columns</p>\n",
       "</div>"
      ],
      "text/plain": [
       "                                                      X            y\n",
       "0     [0.06860095117868371, 1.4376865277355852e-08, ...   707.345735\n",
       "1     [0.06039654417031627, 1.213281348026635e-08, 1...  2132.439348\n",
       "2     [0.06803802894283517, 3.425563452549015e-08, 2...  1019.410030\n",
       "3     [0.0601215233161849, 3.0016900889318795e-08, 5...  2206.854680\n",
       "4     [0.0698653952573221, 6.271954105804142e-09, 2....   488.900729\n",
       "...                                                 ...          ...\n",
       "7995  [0.06059652226968545, 1.107213164013808e-08, 1...  2754.167443\n",
       "7996  [0.06273516264810623, 7.466261630613156e-08, 3...  2146.042151\n",
       "7997  [0.0598401274934071, 3.556574835201933e-08, 3....  2384.491279\n",
       "7998  [0.060939281084748026, 5.2898791951485635e-08,...  1899.591374\n",
       "7999  [0.05989522573373, 1.0121274757183975e-08, 1.0...  1810.773075\n",
       "\n",
       "[16000 rows x 2 columns]"
      ]
     },
     "execution_count": 2,
     "metadata": {},
     "output_type": "execute_result"
    }
   ],
   "source": [
    "# Defining SOAP parameters\n",
    "expression = \"soap cutoff=5.5 cutoff_transition_width=0.5 n_max=9 l_max=9 atom_sigma=0.55 n_Z=1 n_species=4 species_Z={11, 12, 25, 8}\"\n",
    "elements = ['Na']\n",
    "\n",
    "# Getting data from many OUTCARs\n",
    "folders = ['./p63mcm/', './p6322/']\n",
    "df_all = pd.DataFrame()\n",
    "for foldername in folders:\n",
    "    outcar_list = os.listdir(foldername)\n",
    "    outcar_list.sort(key=lambda x: int(x.lstrip('OUTCAR')))\n",
    "    df_tmp = get_df_from_outcars([os.path.join(foldername, outcar) for outcar in outcar_list], expression=expression, elements=elements)\n",
    "    df_all = pd.concat([df_all, df_tmp])\n",
    "df_all"
   ]
  },
  {
   "cell_type": "markdown",
   "id": "a9d6df05",
   "metadata": {
    "tags": []
   },
   "source": [
    "## Training and testing the NN-NMR model\n",
    "\n",
    "- input: \n",
    "    - data(DataFrame)\n",
    "\n",
    "\n",
    "- output files stored in '{WORKDIR}/results/': \n",
    "    - model: stored in 'model_test'\n",
    "    - test set information after training: stored in 'rmse_and_test_data.npy'. key-'test_y' shows chemical shifts of training set; key-'test_y_pred' shows predicted values of chemical shifts corresponding to the key-'test_y'; key-'rmse' shows the value of rmse between key-'test_y' and key-'test_y_pred'\n",
    "    - training history: stored in 'model_test_hist.pkl'"
   ]
  },
  {
   "cell_type": "code",
   "execution_count": 3,
   "id": "c516e13e-3a6f-4e3c-bd7b-7f307d01eca2",
   "metadata": {},
   "outputs": [],
   "source": [
    "def get_Xy_from_df(df):\n",
    "    X, y = np.array(df['X'].to_list()), df['y'].values\n",
    "    return X, y"
   ]
  },
  {
   "cell_type": "code",
   "execution_count": 4,
   "id": "575c2f98-99e0-4bea-8de6-f18de9ad6280",
   "metadata": {},
   "outputs": [],
   "source": [
    "# Training the NN-NMR model\n",
    "X, y = get_Xy_from_df(df_all) # get X and y data from sampled data"
   ]
  },
  {
   "cell_type": "code",
   "execution_count": 5,
   "id": "6be0cb32-873a-4c07-9a0f-7a16729b496c",
   "metadata": {},
   "outputs": [
    {
     "data": {
      "text/plain": [
       "((16000, 6660), (16000,))"
      ]
     },
     "execution_count": 5,
     "metadata": {},
     "output_type": "execute_result"
    }
   ],
   "source": [
    "X.shape, y.shape"
   ]
  },
  {
   "cell_type": "code",
   "execution_count": 6,
   "id": "e885801d-c656-43f0-93eb-02e21efdf7e1",
   "metadata": {},
   "outputs": [],
   "source": [
    "import torch\n",
    "from torch import nn\n",
    "from torch.utils.data import Dataset, TensorDataset, DataLoader, random_split\n",
    "from torch.optim.lr_scheduler import StepLR\n",
    "from tqdm import tqdm"
   ]
  },
  {
   "cell_type": "code",
   "execution_count": 8,
   "id": "da444df7-6abe-43e4-9bba-c0cffe70c4f0",
   "metadata": {},
   "outputs": [],
   "source": [
    "tensor_x = torch.Tensor(X)\n",
    "tensor_y = torch.Tensor(y)\n",
    "tensor_y = tensor_y.unsqueeze(1)\n",
    "nmr_data = TensorDataset(tensor_x,tensor_y)"
   ]
  },
  {
   "cell_type": "code",
   "execution_count": 9,
   "id": "2fc74ba5-a169-40c3-b9b0-a1f4e39e9fa2",
   "metadata": {},
   "outputs": [],
   "source": [
    "train_size = int(0.6 * len(nmr_data))\n",
    "test_size = int(0.2 * len(nmr_data))\n",
    "val_size = len(nmr_data) - train_size - test_size\n",
    "train_data, test_data, val_data = random_split(\n",
    "    nmr_data, [train_size, test_size, val_size], \n",
    "    generator=torch.Generator().manual_seed(114514)\n",
    ")"
   ]
  },
  {
   "cell_type": "code",
   "execution_count": 10,
   "id": "cbad6953-23d4-47db-a427-4311afa6702b",
   "metadata": {},
   "outputs": [
    {
     "data": {
      "text/plain": [
       "(9600, 3200, 3200)"
      ]
     },
     "execution_count": 10,
     "metadata": {},
     "output_type": "execute_result"
    }
   ],
   "source": [
    "# Have a look at size of training and test set.\n",
    "train_size, test_size, val_size"
   ]
  },
  {
   "cell_type": "code",
   "execution_count": 11,
   "id": "48f975ff-284b-4463-9200-291d411c94f8",
   "metadata": {},
   "outputs": [],
   "source": [
    "batch_size = 1024\n",
    "train_dataloader = DataLoader(train_data, batch_size=batch_size)\n",
    "test_dataloader = DataLoader(test_data, batch_size=batch_size)"
   ]
  },
  {
   "cell_type": "code",
   "execution_count": 12,
   "id": "d3568dd0-524c-4762-9dfc-89f8e3d513b8",
   "metadata": {},
   "outputs": [
    {
     "name": "stdout",
     "output_type": "stream",
     "text": [
      "Shape of X [N, C]: torch.Size([1024, 6660])\n",
      "Shape of y: torch.Size([1024, 1]) torch.float32\n"
     ]
    }
   ],
   "source": [
    "for X, y in test_dataloader:\n",
    "    print(f\"Shape of X [N, C]: {X.shape}\")\n",
    "    print(f\"Shape of y: {y.shape} {y.dtype}\")\n",
    "    break"
   ]
  },
  {
   "cell_type": "code",
   "execution_count": 38,
   "id": "b89ec8ab-848d-4065-804f-b43a6bcfa24b",
   "metadata": {},
   "outputs": [
    {
     "name": "stdout",
     "output_type": "stream",
     "text": [
      "Using cuda device\n",
      "NeuralNetwork(\n",
      "  (flatten): Flatten(start_dim=1, end_dim=-1)\n",
      "  (linear_relu_stack): Sequential(\n",
      "    (0): BatchNorm1d(6660, eps=1e-05, momentum=0.1, affine=True, track_running_stats=True)\n",
      "    (1): Linear(in_features=6660, out_features=256, bias=True)\n",
      "    (2): ReLU()\n",
      "    (3): Dropout(p=0.2, inplace=False)\n",
      "    (4): Linear(in_features=256, out_features=256, bias=True)\n",
      "    (5): ReLU()\n",
      "    (6): Dropout(p=0.2, inplace=False)\n",
      "    (7): Linear(in_features=256, out_features=256, bias=True)\n",
      "    (8): ReLU()\n",
      "    (9): Dropout(p=0.2, inplace=False)\n",
      "    (10): Linear(in_features=256, out_features=1, bias=True)\n",
      "  )\n",
      ")\n"
     ]
    }
   ],
   "source": [
    "device = \"cuda\" if torch.cuda.is_available() else \"mps\" if torch.backends.mps.is_available() else \"cpu\"\n",
    "print(f\"Using {device} device\")\n",
    "\n",
    "# Define model\n",
    "class NeuralNetwork(nn.Module):\n",
    "    def __init__(self):\n",
    "        super().__init__()\n",
    "        self.flatten = nn.Flatten()\n",
    "        self.linear_relu_stack = nn.Sequential(\n",
    "            nn.BatchNorm1d(len(test_dataloader.dataset[0][0])),\n",
    "            nn.Linear(len(test_dataloader.dataset[0][0]), 256),\n",
    "            nn.ReLU(),\n",
    "            nn.Dropout(p=0.2),\n",
    "            nn.Linear(256, 256),\n",
    "            nn.ReLU(),\n",
    "            nn.Dropout(p=0.2),\n",
    "            nn.Linear(256, 256),\n",
    "            nn.ReLU(),\n",
    "            nn.Dropout(p=0.2),\n",
    "            nn.Linear(256, 1)\n",
    "        )\n",
    "\n",
    "    def forward(self, x):\n",
    "        x = self.flatten(x)\n",
    "        logits = self.linear_relu_stack(x)\n",
    "        return logits\n",
    "\n",
    "model = NeuralNetwork().to(device)\n",
    "print(model)"
   ]
  },
  {
   "cell_type": "code",
   "execution_count": 39,
   "id": "7e5ca3e8-0205-4ba5-a56c-2063dd2f98d2",
   "metadata": {},
   "outputs": [],
   "source": [
    "def train(dataloader, model, loss_fn, optimizer):\n",
    "    size = len(dataloader.dataset)\n",
    "    model.train()\n",
    "    for batch, (X, y) in enumerate(dataloader):\n",
    "        X, y = X.to(device), y.to(device)\n",
    "\n",
    "        # Compute prediction error\n",
    "        pred = model(X)\n",
    "        loss = loss_fn(pred, y)\n",
    "\n",
    "        # Backpropagation\n",
    "        optimizer.zero_grad()\n",
    "        loss.backward()\n",
    "        optimizer.step()\n",
    "        return loss.item()"
   ]
  },
  {
   "cell_type": "code",
   "execution_count": 40,
   "id": "a3179980-9cb3-47c7-9ad5-b0e1587fbf31",
   "metadata": {},
   "outputs": [],
   "source": [
    "def test(dataloader, model, loss_fn):\n",
    "    size = len(dataloader.dataset)\n",
    "    num_batches = len(dataloader)\n",
    "    model.eval()\n",
    "    test_loss, correct = 0, 0\n",
    "    with torch.no_grad():\n",
    "        for X, y in dataloader:\n",
    "            X, y = X.to(device), y.to(device)\n",
    "            pred = model(X)\n",
    "            test_loss += loss_fn(pred, y).item()\n",
    "            correct += (pred.argmax(1) == y).type(torch.float).sum().item()\n",
    "    test_loss /= num_batches\n",
    "    correct /= size\n",
    "    return test_loss"
   ]
  },
  {
   "cell_type": "code",
   "execution_count": 41,
   "id": "d146e793-feca-4633-9397-ed14f5f193f1",
   "metadata": {},
   "outputs": [],
   "source": [
    "loss_fn = nn.MSELoss()\n",
    "optimizer = torch.optim.Adam(model.parameters(), lr=1e-3, betas=(0.9, 0.999), eps=1e-08, weight_decay=1e-4)\n",
    "#scheduler = StepLR(optimizer, step_size=10000)"
   ]
  },
  {
   "cell_type": "code",
   "execution_count": null,
   "id": "e7d4fc1a-6226-4ae7-814e-6d5eff8ad64f",
   "metadata": {},
   "outputs": [
    {
     "name": "stderr",
     "output_type": "stream",
     "text": [
      "  0%|          | 2/4000 [00:00<05:08, 12.95it/s]"
     ]
    },
    {
     "name": "stdout",
     "output_type": "stream",
     "text": [
      "3284588.5 3226814.0625\n"
     ]
    },
    {
     "name": "stderr",
     "output_type": "stream",
     "text": [
      "  3%|▎         | 102/4000 [00:08<05:17, 12.28it/s]"
     ]
    },
    {
     "name": "stdout",
     "output_type": "stream",
     "text": [
      "100930.796875 243724.52734375\n"
     ]
    },
    {
     "name": "stderr",
     "output_type": "stream",
     "text": [
      "  5%|▌         | 202/4000 [00:16<05:08, 12.33it/s]"
     ]
    },
    {
     "name": "stdout",
     "output_type": "stream",
     "text": [
      "62232.3515625 57346.84765625\n"
     ]
    },
    {
     "name": "stderr",
     "output_type": "stream",
     "text": [
      "  8%|▊         | 302/4000 [00:24<05:19, 11.56it/s]"
     ]
    },
    {
     "name": "stdout",
     "output_type": "stream",
     "text": [
      "39475.35546875 32582.47607421875\n"
     ]
    },
    {
     "name": "stderr",
     "output_type": "stream",
     "text": [
      " 10%|▉         | 384/4000 [00:31<04:56, 12.18it/s]"
     ]
    }
   ],
   "source": [
    "epochs = 4000\n",
    "loss_train = []\n",
    "loss_test = []\n",
    "for t in tqdm(range(epochs)):\n",
    "    ltrn = train(train_dataloader, model, loss_fn, optimizer)\n",
    "    ltst = test(test_dataloader, model, loss_fn)\n",
    "    loss_train.append(ltrn)\n",
    "    loss_test.append(ltst)\n",
    "    scheduler.step()\n",
    "    if t % 100 == 0:\n",
    "        print(ltrn, ltst)"
   ]
  },
  {
   "cell_type": "code",
   "execution_count": 84,
   "id": "41f738dc-0ca1-40eb-b0bb-37d3d6907fd9",
   "metadata": {},
   "outputs": [],
   "source": [
    "import matplotlib.pyplot as plt"
   ]
  },
  {
   "cell_type": "code",
   "execution_count": 43,
   "id": "21129a65-51df-45d4-8cd5-e55ab7cf9f59",
   "metadata": {},
   "outputs": [
    {
     "data": {
      "text/plain": [
       "<matplotlib.legend.Legend at 0x7f47d8283af0>"
      ]
     },
     "execution_count": 43,
     "metadata": {},
     "output_type": "execute_result"
    },
    {
     "data": {
      "image/png": "[encoded data removed]",
      "text/plain": [
       "<Figure size 432x288 with 1 Axes>"
      ]
     },
     "metadata": {
      "needs_background": "light"
     },
     "output_type": "display_data"
    }
   ],
   "source": [
    "ax = plt.subplot()\n",
    "ax.plot(loss_train, label=\"Training set\")\n",
    "ax.plot(loss_test, label=\"Test set\")\n",
    "ax.set_ylim(0, 100000)\n",
    "ax.legend()"
   ]
  },
  {
   "cell_type": "code",
   "execution_count": 44,
   "id": "2238f3fb-b690-4a42-9fba-672e37f872e6",
   "metadata": {},
   "outputs": [
    {
     "name": "stdout",
     "output_type": "stream",
     "text": [
      "Saved PyTorch Model State to model.pth\n"
     ]
    }
   ],
   "source": [
    "torch.save(model.state_dict(), \"model.pth\")\n",
    "print(\"Saved PyTorch Model State to model.pth\")"
   ]
  },
  {
   "cell_type": "code",
   "execution_count": 45,
   "id": "c3e8c89a-6f83-4645-8be1-f6b93f7a1a8c",
   "metadata": {},
   "outputs": [
    {
     "data": {
      "text/plain": [
       "<All keys matched successfully>"
      ]
     },
     "execution_count": 45,
     "metadata": {},
     "output_type": "execute_result"
    }
   ],
   "source": [
    "model = NeuralNetwork()\n",
    "model.load_state_dict(torch.load(\"model.pth\"))"
   ]
  },
  {
   "cell_type": "markdown",
   "id": "1cea996e-f999-4fbf-b7c4-7420447242f3",
   "metadata": {},
   "source": [
    "## Predict\n",
    "\n",
    "- input:\n",
    "    - model\n",
    "    - atoms\n",
    "    - expression\n",
    "    - elements\n",
    "\n",
    "\n",
    "- output:\n",
    "    - chemical shifts\n",
    "\n",
    "\n",
    "The script for generating chemical shifts in batches on HPC is shown in 'gpu.py' and 'gpu.lsf'"
   ]
  },
  {
   "cell_type": "code",
   "execution_count": 46,
   "id": "912d3417-d570-463b-bf19-f494fea93ca4",
   "metadata": {},
   "outputs": [],
   "source": [
    "validation_loader = DataLoader(val_data)\n",
    "#test_data.dataset.tensors[0].size(), test_data.dataset.tensors[1].size()"
   ]
  },
  {
   "cell_type": "code",
   "execution_count": 47,
   "id": "2d105726-189e-4cbf-86b2-630111c4712e",
   "metadata": {
    "tags": []
   },
   "outputs": [],
   "source": [
    "test_dict = {\n",
    "    \"test_y\": [],\n",
    "    \"test_y_pred\": []\n",
    "}\n",
    "for X, y in validation_loader:\n",
    "    #print(X, y)\n",
    "    test_dict['test_y'].append(float(y))\n",
    "    #X, y = X.to(device), y.to(device)\n",
    "    model.eval()\n",
    "    pred = model(X)\n",
    "    test_dict['test_y_pred'].append(float(pred))"
   ]
  },
  {
   "cell_type": "code",
   "execution_count": 48,
   "id": "118d56f5-d3c2-4e45-9fbc-67de56f3cc84",
   "metadata": {},
   "outputs": [],
   "source": [
    "from sklearn.metrics import mean_squared_error"
   ]
  },
  {
   "cell_type": "code",
   "execution_count": 49,
   "id": "d792aa79-8f06-4c78-ba88-174dd4880ccb",
   "metadata": {},
   "outputs": [
    {
     "name": "stdout",
     "output_type": "stream",
     "text": [
      "RMSE: 116.48295566919805\n",
      "R^2: 0.9652708128419565\n"
     ]
    },
    {
     "data": {
      "image/png": "[encoded data removed]",
      "text/plain": [
       "<Figure size 525x525 with 1 Axes>"
      ]
     },
     "metadata": {
      "needs_background": "light"
     },
     "output_type": "display_data"
    }
   ],
   "source": [
    "# RMSE and R2\n",
    "rmse_test = np.sqrt(mean_squared_error(test_dict['test_y'], test_dict['test_y_pred']))\n",
    "print(f'RMSE: {rmse_test}')\n",
    "R2 = r2_score(test_dict['test_y'], test_dict['test_y_pred'])\n",
    "print(f'R^2: {R2}')\n",
    "\n",
    "# Plotting the correlation of 23Na shift calculated with DFT and with NN-NMR model\n",
    "fig, ax = plt.subplots(figsize=(3.5, 3.5), dpi=150)\n",
    "ax.scatter(test_dict['test_y'], test_dict['test_y_pred'], alpha=0.1, s=10, c='r')\n",
    "\n",
    "ax.text(min(test_dict['test_y'])+1300, min(test_dict['test_y'])+300, \"RMSE = \" + \"%.0f\"%(rmse_test)+' ppm', fontsize = 12)\n",
    "ax.text(min(test_dict['test_y'])+1300, min(test_dict['test_y'])+600, \"R$^{2}$ = \" + \"%.2f\"%(R2), fontsize = 12)\n",
    "\n",
    "ax.set_xlabel('$^{23}Na$ $\\delta_{DFT}$ (ppm)')\n",
    "ax.set_ylabel('$^{23}Na$ $\\delta_{NN}$ (ppm)')\n",
    "ax.axis('equal')\n",
    "ax.axis('square')   \n",
    "plt.xticks(np.arange(0,3500,1000))\n",
    "plt.yticks(np.arange(0,3500,1000))\n",
    "plt.xlim([-200,3300])\n",
    "plt.ylim([-200,3300])\n",
    "_ = ax.plot([-10000, 10000], [-10000, 10000], c='k', ls='--')\n",
    "\n",
    "#plt.savefig(foldername+'correlation.jpg', dpi = 400, bbox_inches = 'tight')"
   ]
  },
  {
   "cell_type": "code",
   "execution_count": 50,
   "id": "b198e264-5bb3-4b3c-8489-084fcef1bbc0",
   "metadata": {},
   "outputs": [],
   "source": [
    "from nn_nmr import get_soaps_from_atoms"
   ]
  },
  {
   "cell_type": "code",
   "execution_count": 51,
   "id": "bba25caa-20c1-4636-ac80-70db47d930de",
   "metadata": {},
   "outputs": [],
   "source": [
    "test_atoms = read('predict_fcshifts_example.xyz')\n",
    "soaps = get_soaps_from_atoms(test_atoms, expression=expression, elements=elements)"
   ]
  },
  {
   "cell_type": "code",
   "execution_count": 52,
   "id": "7f726bd6-4eb9-41ae-80d1-5fea1d10c4bd",
   "metadata": {},
   "outputs": [
    {
     "name": "stdout",
     "output_type": "stream",
     "text": [
      "Predicted: \"tensor([[2150.4160],\n",
      "        [1926.4062],\n",
      "        [ 612.2258],\n",
      "        [2113.6824],\n",
      "        [1989.7628],\n",
      "        [2355.6655],\n",
      "        [2490.8630],\n",
      "        [ 968.2466],\n",
      "        [1055.8987],\n",
      "        [ 810.4955],\n",
      "        [ 535.9751],\n",
      "        [2728.0090],\n",
      "        [1414.2411],\n",
      "        [2247.1450],\n",
      "        [1980.5605],\n",
      "        [2260.7917]])\"\n"
     ]
    }
   ],
   "source": [
    "with torch.no_grad():\n",
    "    tx = torch.Tensor(soaps)\n",
    "    pred = model(tx)\n",
    "    print(f'Predicted: \"{pred}\"')"
   ]
  },
  {
   "cell_type": "code",
   "execution_count": null,
   "id": "059b1a4c-78f3-4bde-969e-e66b752ab745",
   "metadata": {},
   "outputs": [],
   "source": []
  }
 ],
 "metadata": {
  "kernelspec": {
   "display_name": "Python 3",
   "language": "python",
   "name": "python3"
  },
  "language_info": {
   "codemirror_mode": {
    "name": "ipython",
    "version": 3
   },
   "file_extension": ".py",
   "mimetype": "text/x-python",
   "name": "python",
   "nbconvert_exporter": "python",
   "pygments_lexer": "ipython3",
   "version": "3.8.8"
  },
  "vscode": {
   "interpreter": {
    "hash": "d4d1e4263499bec80672ea0156c357c1ee493ec2b1c70f0acce89fc37c4a6abe"
   }
  }
 },
 "nbformat": 4,
 "nbformat_minor": 5
}
